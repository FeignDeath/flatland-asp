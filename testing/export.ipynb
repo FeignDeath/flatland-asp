{
 "cells": [
  {
   "cell_type": "code",
   "execution_count": null,
   "id": "819d74e5",
   "metadata": {},
   "outputs": [],
   "source": [
    "import matplotlib.pyplot as plt\n",
    "import pandas as pd\n",
    "\n",
    "# Load and filter the data\n",
    "csv_file_path = \"log.csv\"\n",
    "df = pd.read_csv(csv_file_path)\n",
    "df = df[df['Result'] == 'SUCCESS']\n",
    "\n",
    "# Function to filter the data based on encoding, height, and cities\n",
    "def filter_data(df, encoding, height, cities):\n",
    "    if cities is not None:\n",
    "        return df[(df['Encoding'] == encoding) & (df['Height'] == height) & (df['Cities'] == cities)]\n",
    "    else:\n",
    "        return df[(df['Encoding'] == encoding) & (df['Height'] == height) & (df['Cities'] != 2) & (df['Cities'] != 1000)]\n",
    "\n",
    "# Function to compute the moving average\n",
    "def moving_average(data, window_size):\n",
    "    return data.rolling(window=window_size, min_periods=1).mean()\n",
    "\n",
    "# Function to plot data\n",
    "def plot_data(ax, df, encoding_label, window_size=3):\n",
    "    smoothed_success = moving_average(df['Success'], window_size)\n",
    "    ax.plot(df['Trains'], smoothed_success, label=encoding_label)\n",
    "\n",
    "# Function to set up the plot\n",
    "def setup_plot(ax):\n",
    "    ax.set_xlim(left=0)\n",
    "    ax.set_ylim(bottom=1)\n",
    "    ax.set_yscale('log')\n",
    "    ax.set_xlabel('Trains')\n",
    "    ax.set_ylabel('Instances Solved')\n",
    "    legend = ax.legend()\n",
    "    for text in legend.get_texts():\n",
    "        text.set_fontsize(text.get_fontsize() * 2)\n",
    "    ax.grid(True)\n",
    "    max_trains = ax.get_xlim()[1]\n",
    "    ax.set_xticks(range(0, int(max_trains) + 1, 10))\n",
    "\n",
    "# Function to save the plot\n",
    "def save_plot(df, height, cities, filename, window_size=3):\n",
    "    fig, ax = plt.subplots(figsize=(8, 6))\n",
    "    for encoding, label in encodings:\n",
    "        df_filtered = filter_data(df, encoding, height, cities)\n",
    "        plot_data(ax, df_filtered, label, window_size)\n",
    "    setup_plot(ax)\n",
    "    plt.tight_layout(pad=0.1)\n",
    "    plt.savefig(f\"../../latex/documentation/images/{filename}\", bbox_inches='tight')\n",
    "    plt.show()\n",
    "    plt.close(fig)\n",
    "\n",
    "# Function to save the proportion plot\n",
    "def save_proportion_plot(df, encoding, height, filename, window_size=3):\n",
    "    df_filtered = df[(df[\"Encoding\"] == encoding) & (df['Height'] == height) & (df['Cities'] == 2)]\n",
    "    trains = df_filtered[\"Trains\"]\n",
    "    solving_proportion = df_filtered[\"Solving Proportion\"]\n",
    "    remaining_percentage = 1 - solving_proportion\n",
    "\n",
    "    solving_proportion_smoothed = moving_average(solving_proportion, window_size)\n",
    "    remaining_percentage_smoothed = moving_average(remaining_percentage, window_size)\n",
    "\n",
    "    fig, ax = plt.subplots(figsize=(8, 6))\n",
    "    ax.fill_between(trains, solving_proportion_smoothed, color='lightcoral', alpha=0.6, label='Solving Proportion')\n",
    "    ax.fill_between(trains, solving_proportion_smoothed, 1, color='lightblue', alpha=0.6, label='Remaining Percentage')\n",
    "    ax.set_xlabel('Trains')\n",
    "    ax.set_ylabel('Proportion')\n",
    "    legend = ax.legend()\n",
    "    for text in legend.get_texts():\n",
    "        text.set_fontsize(text.get_fontsize() * 2)\n",
    "    plt.tight_layout(pad=0.1)\n",
    "    plt.savefig(f\"../../latex/documentation/images/{filename}\", format='eps', bbox_inches='tight')\n",
    "    plt.show()\n",
    "    plt.close()\n",
    "\n",
    "# Function to save the horizon plot\n",
    "def save_horizon_plot(df, filename, encoding, window_size=3):\n",
    "    filtered_data = filter_data(df, encoding, 50, 2)\n",
    "    smoothed_given_horizon = moving_average(filtered_data['Given Horizon'], window_size)\n",
    "    smoothed_resulting_horizon = moving_average(filtered_data['Resulting Horizon'], window_size)\n",
    "    \n",
    "    plt.figure(figsize=(10, 6))\n",
    "    plt.plot(filtered_data['Trains'], smoothed_given_horizon, label='Given Horizon', marker='o')\n",
    "    plt.plot(filtered_data['Trains'], smoothed_resulting_horizon, label='Resulting Horizon', marker='s')\n",
    "    plt.xlabel('Number of Trains')\n",
    "    plt.ylabel('Horizon')\n",
    "    legend = plt.legend()\n",
    "    for text in legend.get_texts():\n",
    "        text.set_fontsize(text.get_fontsize() * 2)\n",
    "    plt.grid(True, linestyle='--', alpha=0.7)\n",
    "    plt.tight_layout()\n",
    "    plt.savefig(f\"../../latex/documentation/images/{filename}\", format='eps', bbox_inches='tight')\n",
    "    plt.show()"
   ]
  },
  {
   "cell_type": "code",
   "execution_count": null,
   "id": "19e2db62",
   "metadata": {},
   "outputs": [],
   "source": [
    "\n",
    "encodings = [\n",
    "    ('encodings/multiple/grid/', 'Grid'),\n",
    "    ('encodings/multiple/incremental/', 'Incremental'),\n",
    "    ('encodings/multiple/weighted/', 'Weighted'),\n",
    "    ('encodings/multiple/ordered_pipe/', 'Ordered'),\n",
    "    ('encodings/multiple/path_assigning/', 'Path Assigning'),\n",
    "    ('encodings/multiple/weighted_no_waiting/', 'Weighted*')\n",
    "]\n",
    "\n",
    "save_plot(df, 200, 2, 'sparse_s.eps')\n"
   ]
  },
  {
   "cell_type": "code",
   "execution_count": null,
   "id": "8a879a48",
   "metadata": {},
   "outputs": [],
   "source": [
    "save_plot(df, 50, 2, 'normal_s.eps')"
   ]
  },
  {
   "cell_type": "code",
   "execution_count": null,
   "id": "ea5ed81f",
   "metadata": {},
   "outputs": [],
   "source": [
    "save_plot(df, 50, None, 'dense_s.eps')"
   ]
  },
  {
   "cell_type": "code",
   "execution_count": null,
   "id": "e182b816",
   "metadata": {},
   "outputs": [],
   "source": [
    "save_proportion_plot(df, \"encodings/multiple/weighted/\", 100, \"weighted_s.eps\")"
   ]
  },
  {
   "cell_type": "code",
   "execution_count": null,
   "id": "ef4c7303",
   "metadata": {},
   "outputs": [],
   "source": [
    "save_proportion_plot(df, \"encodings/multiple/weighted_no_waiting/\", 100, \"weighted_reduced_s.eps\")"
   ]
  },
  {
   "cell_type": "code",
   "execution_count": null,
   "id": "edc00104",
   "metadata": {},
   "outputs": [],
   "source": [
    "save_horizon_plot(df, \"horizons.eps\", \"encodings/multiple/ordered_pipe/\")"
   ]
  }
 ],
 "metadata": {
  "kernelspec": {
   "display_name": "flatland",
   "language": "python",
   "name": "python3"
  },
  "language_info": {
   "codemirror_mode": {
    "name": "ipython",
    "version": 3
   },
   "file_extension": ".py",
   "mimetype": "text/x-python",
   "name": "python",
   "nbconvert_exporter": "python",
   "pygments_lexer": "ipython3",
   "version": "3.12.2"
  }
 },
 "nbformat": 4,
 "nbformat_minor": 5
}
